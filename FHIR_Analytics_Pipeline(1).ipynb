{
  "nbformat": 4,
  "nbformat_minor": 0,
  "metadata": {
    "colab": {
      "provenance": []
    },
    "kernelspec": {
      "name": "python3",
      "display_name": "Python 3"
    },
    "language_info": {
      "name": "python"
    }
  },
  "cells": [
    {
      "cell_type": "code",
      "execution_count": null,
      "metadata": {
        "colab": {
          "base_uri": "https://localhost:8080/"
        },
        "id": "pylDNWwxQdAs",
        "outputId": "a57c16b5-ac70-487b-bfad-90f743ba6287"
      },
      "outputs": [
        {
          "output_type": "stream",
          "name": "stdout",
          "text": [
            "\u001b[2K     \u001b[90m━━━━━━━━━━━━━━━━━━━━━━━━━━━━━━━━━━━━━━━━\u001b[0m \u001b[32m49.2/49.2 kB\u001b[0m \u001b[31m1.1 MB/s\u001b[0m eta \u001b[36m0:00:00\u001b[0m\n",
            "\u001b[2K   \u001b[90m━━━━━━━━━━━━━━━━━━━━━━━━━━━━━━━━━━━━━━━━\u001b[0m \u001b[32m2.3/2.3 MB\u001b[0m \u001b[31m47.4 MB/s\u001b[0m eta \u001b[36m0:00:00\u001b[0m\n",
            "\u001b[?25h"
          ]
        }
      ],
      "source": [
        "!pip install -q fhir.resources pandas matplotlib pytest"
      ]
    },
    {
      "cell_type": "code",
      "source": [
        "# @title 3. Transform FHIR Observations to Pandas DataFrame\n",
        "# =========================================================\n",
        "# This cell iterates through the parsed FHIR Bundle, extracts key information\n",
        "# from each Observation resource, and builds a Pandas DataFrame. This process,\n",
        "# often called \"flattening,\" is essential for making the hierarchical FHIR data\n",
        "# usable for tabular analysis and visualization.\n",
        "\n",
        "# List to hold our flattened observation data\n",
        "observations_list = []\n",
        "\n",
        "print(\"--- DEBUG: Starting transformation of FHIR Bundle to list of dicts ---\")\n",
        "\n",
        "# Loop through each entry in the bundle\n",
        "for entry in observation_bundle.entry:\n",
        "    # Each entry contains a 'resource' which is the actual Observation\n",
        "    resource = entry.resource\n",
        "\n",
        "    # --- DEBUG: Processing a single resource ---\n",
        "    print(f\"Processing Observation ID: {resource.id}\")\n",
        "\n",
        "    # Safely extract data from the resource. We use checks to ensure\n",
        "    # that optional fields don't cause errors if they are missing.\n",
        "    patient_id = resource.subject.reference.split('/')[-1] if resource.subject and resource.subject.reference else None\n",
        "    observation_id = resource.id\n",
        "    status = resource.status\n",
        "\n",
        "    # Extract observation code and display text\n",
        "    code_text = resource.code.text if resource.code else None\n",
        "    loinc_code = resource.code.coding[0].code if resource.code and resource.code.coding else None\n",
        "\n",
        "    # Extract the observation value and unit\n",
        "    value = None\n",
        "    unit = None\n",
        "    if resource.valueQuantity:\n",
        "        value = resource.valueQuantity.value\n",
        "        unit = resource.valueQuantity.unit\n",
        "\n",
        "    # Extract the effective date of the observation\n",
        "    effective_date = resource.effectiveDateTime\n",
        "\n",
        "    # Append the extracted data as a dictionary to our list\n",
        "    observations_list.append({\n",
        "        'patient_id': patient_id,\n",
        "        'observation_id': observation_id,\n",
        "        'status': status,\n",
        "        'loinc_code': loinc_code,\n",
        "        'code_text': code_text,\n",
        "        'value': value,\n",
        "        'unit': unit,\n",
        "        'effective_date': effective_date\n",
        "    })\n",
        "\n",
        "print(\"--- DEBUG: Transformation complete. Creating DataFrame. ---\")\n",
        "\n",
        "# Create a Pandas DataFrame from the list of dictionaries\n",
        "observations_df = pd.DataFrame(observations_list)\n",
        "\n",
        "# Convert the 'effective_date' column to a proper datetime format\n",
        "# and 'value' to a numeric type for calculations.\n",
        "observations_df['effective_date'] = pd.to_datetime(observations_df['effective_date'])\n",
        "observations_df['value'] = pd.to_numeric(observations_df['value'])\n",
        "\n",
        "# --- Final Output ---\n",
        "print(\"\\nSuccessfully created Pandas DataFrame from Observations:\")\n",
        "print(observations_df.info())\n",
        "print(\"\\nDataFrame Head:\")\n",
        "print(observations_df.head())\n"
      ],
      "metadata": {
        "colab": {
          "base_uri": "https://localhost:8080/"
        },
        "id": "b785AmUCQj8s",
        "outputId": "e5207232-29d9-4214-fefc-2271ac639783"
      },
      "execution_count": null,
      "outputs": [
        {
          "output_type": "stream",
          "name": "stdout",
          "text": [
            "--- DEBUG: Starting transformation of FHIR Bundle to list of dicts ---\n",
            "Processing Observation ID: 1\n",
            "Processing Observation ID: 2\n",
            "Processing Observation ID: 3\n",
            "--- DEBUG: Transformation complete. Creating DataFrame. ---\n",
            "\n",
            "Successfully created Pandas DataFrame from Observations:\n",
            "<class 'pandas.core.frame.DataFrame'>\n",
            "RangeIndex: 3 entries, 0 to 2\n",
            "Data columns (total 8 columns):\n",
            " #   Column          Non-Null Count  Dtype              \n",
            "---  ------          --------------  -----              \n",
            " 0   patient_id      3 non-null      object             \n",
            " 1   observation_id  3 non-null      object             \n",
            " 2   status          3 non-null      object             \n",
            " 3   loinc_code      3 non-null      object             \n",
            " 4   code_text       3 non-null      object             \n",
            " 5   value           3 non-null      float64            \n",
            " 6   unit            3 non-null      object             \n",
            " 7   effective_date  3 non-null      datetime64[ns, UTC]\n",
            "dtypes: datetime64[ns, UTC](1), float64(1), object(6)\n",
            "memory usage: 324.0+ bytes\n",
            "None\n",
            "\n",
            "DataFrame Head:\n",
            "    patient_id observation_id status loinc_code          code_text  value  \\\n",
            "0  patient-123              1  final    15074-8      Blood Glucose    5.5   \n",
            "1  patient-123              2  final     2093-3  Total Cholesterol  200.0   \n",
            "2  patient-456              3  final    15074-8      Blood Glucose    6.1   \n",
            "\n",
            "     unit            effective_date  \n",
            "0  mmol/L 2023-05-10 08:30:00+00:00  \n",
            "1   mg/dL 2023-05-10 08:30:00+00:00  \n",
            "2  mmol/L 2023-06-12 09:00:00+00:00  \n"
          ]
        }
      ]
    },
    {
      "cell_type": "code",
      "source": [
        "%cd /content/\n",
        "!rm -rf fhir-population-analytics"
      ],
      "metadata": {
        "colab": {
          "base_uri": "https://localhost:8080/"
        },
        "id": "Ich5ZkV_l-JX",
        "outputId": "d7c57e3f-47ac-4cfb-950a-3cc0a9e5aaaa"
      },
      "execution_count": 16,
      "outputs": [
        {
          "output_type": "stream",
          "name": "stdout",
          "text": [
            "/content\n"
          ]
        }
      ]
    },
    {
      "cell_type": "code",
      "source": [
        "%cd fhir-population-analytics\n",
        "\n",
        "# 2. Set your user identity for this repository\n",
        "# Replace with your actual email and name\n",
        "!git config user.email \"bbaltal.tuwien@gmail.com\"\n",
        "!git config user.name \"bubaltali\""
      ],
      "metadata": {
        "colab": {
          "base_uri": "https://localhost:8080/"
        },
        "id": "8wOoUaKSqsYV",
        "outputId": "5931a636-8b22-46d1-ac57-cfb5eeb9e967"
      },
      "execution_count": 18,
      "outputs": [
        {
          "output_type": "stream",
          "name": "stdout",
          "text": [
            "/content/fhir-population-analytics\n"
          ]
        }
      ]
    },
    {
      "cell_type": "code",
      "source": [
        "!git add FHIR_Analytics_Pipeline.ipynb\n",
        "!git commit -m \"Initial commit of FHIR analytics notebook\"\n",
        "!git push"
      ],
      "metadata": {
        "colab": {
          "base_uri": "https://localhost:8080/"
        },
        "id": "ry52Cw4tn_rE",
        "outputId": "0d5ca80c-10d0-4d79-c14b-48fd4f0ee709"
      },
      "execution_count": 19,
      "outputs": [
        {
          "output_type": "stream",
          "name": "stdout",
          "text": [
            "[main (root-commit) 6148e99] Initial commit of FHIR analytics notebook\n",
            " 1 file changed, 394 insertions(+)\n",
            " create mode 100644 FHIR_Analytics_Pipeline.ipynb\n",
            "Enumerating objects: 3, done.\n",
            "Counting objects: 100% (3/3), done.\n",
            "Delta compression using up to 2 threads\n",
            "Compressing objects: 100% (3/3), done.\n",
            "Writing objects: 100% (3/3), 3.82 KiB | 3.82 MiB/s, done.\n",
            "Total 3 (delta 0), reused 0 (delta 0), pack-reused 0\n",
            "remote: \u001b[1;31merror\u001b[m: GH013: Repository rule violations found for refs/heads/main.\u001b[K\n",
            "remote: \n",
            "remote: - GITHUB PUSH PROTECTION\u001b[K\n",
            "remote:   —————————————————————————————————————————\u001b[K\n",
            "remote:     Resolve the following violations before pushing again\u001b[K\n",
            "remote: \n",
            "remote:     - Push cannot contain secrets\u001b[K\n",
            "remote: \n",
            "remote:     \u001b[K\n",
            "remote:      (?) Learn how to resolve a blocked push\u001b[K\n",
            "remote:      https://docs.github.com/code-security/secret-scanning/working-with-secret-scanning-and-push-protection/working-with-push-protection-from-the-command-line#resolving-a-blocked-push\u001b[K\n",
            "remote:     \u001b[K\n",
            "remote:     \u001b[K\n",
            "remote:       —— GitHub Personal Access Token ——————————————————————\u001b[K\n",
            "remote:        locations:\u001b[K\n",
            "remote:          - commit: 6148e99bd26a56a0b4ebb66c02607eeac57bc2cd\u001b[K\n",
            "remote:            path: FHIR_Analytics_Pipeline.ipynb:191\u001b[K\n",
            "remote:     \u001b[K\n",
            "remote:        (?) To push, remove secret from commit(s) or follow this URL to allow the secret.\u001b[K\n",
            "remote:        https://github.com/bubaltali/fhir-population-analytics/security/secret-scanning/unblock-secret/30rZKKUBjq0YeKTNxTxjJIzIkSU\u001b[K\n",
            "remote:     \u001b[K\n",
            "remote: \n",
            "remote: \n",
            "To https://github.com/bubaltali/fhir-population-analytics.git\n",
            " \u001b[31m! [remote rejected]\u001b[m main -> main (push declined due to repository rule violations)\n",
            "\u001b[31merror: failed to push some refs to 'https://github.com/bubaltali/fhir-population-analytics.git'\n",
            "\u001b[m"
          ]
        }
      ]
    },
    {
      "cell_type": "code",
      "source": [
        "!pwd"
      ],
      "metadata": {
        "colab": {
          "base_uri": "https://localhost:8080/"
        },
        "id": "Rt8ot9jGobGt",
        "outputId": "936f52ad-706d-4566-a201-b691a8198ba8"
      },
      "execution_count": 13,
      "outputs": [
        {
          "output_type": "stream",
          "name": "stdout",
          "text": [
            "/content/fhir-population-analytics\n"
          ]
        }
      ]
    },
    {
      "cell_type": "code",
      "source": [
        "!git remote add origin https://github.com/bubaltali/fhir-population-analytics.git\n",
        "!git branch -M main\n",
        "!git push -u origin main"
      ],
      "metadata": {
        "colab": {
          "base_uri": "https://localhost:8080/"
        },
        "id": "0tEP_G_AoHaG",
        "outputId": "3d29da17-4154-49b3-f406-7aac76ee2b16"
      },
      "execution_count": 11,
      "outputs": [
        {
          "output_type": "stream",
          "name": "stdout",
          "text": [
            "error: remote origin already exists.\n",
            "error: src refspec main does not match any\n",
            "\u001b[31merror: failed to push some refs to 'https://github.com/bubaltali/fhir-population-analytics.git'\n",
            "\u001b[m"
          ]
        }
      ]
    },
    {
      "cell_type": "code",
      "source": [
        "!git init\n",
        "!git add README.md\n",
        "!git commit -m \"first commit\"\n",
        "!git branch -M main\n",
        "!git remote add origin https://github.com/bubaltali/fhir-population-analytics.git\n",
        "!git push -u origin main"
      ],
      "metadata": {
        "colab": {
          "base_uri": "https://localhost:8080/"
        },
        "id": "0jgAulW6oNCt",
        "outputId": "c823715c-ac2a-44cb-9bcd-d67c86a6e6b6"
      },
      "execution_count": 12,
      "outputs": [
        {
          "output_type": "stream",
          "name": "stdout",
          "text": [
            "Reinitialized existing Git repository in /content/fhir-population-analytics/.git/\n",
            "fatal: pathspec 'README.md' did not match any files\n",
            "On branch main\n",
            "\n",
            "Initial commit\n",
            "\n",
            "nothing to commit (create/copy files and use \"git add\" to track)\n",
            "error: remote origin already exists.\n",
            "error: src refspec main does not match any\n",
            "\u001b[31merror: failed to push some refs to 'https://github.com/bubaltali/fhir-population-analytics.git'\n",
            "\u001b[m"
          ]
        }
      ]
    }
  ]
}